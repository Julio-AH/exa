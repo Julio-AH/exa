{
  "nbformat": 4,
  "nbformat_minor": 0,
  "metadata": {
    "colab": {
      "name": "Untitled3.ipynb",
      "provenance": [],
      "collapsed_sections": []
    },
    "kernelspec": {
      "name": "python3",
      "display_name": "Python 3"
    }
  },
  "cells": [
    {
      "cell_type": "code",
      "metadata": {
        "id": "hZeUUACEjeG0",
        "outputId": "6b05fa81-f475-4903-bb46-6b546175226d",
        "colab": {
          "base_uri": "https://localhost:8080/"
        }
      },
      "source": [
        "print(\"Teniendo en cuenta que Ax^2 + Bx + c\")\n",
        "a = float(input(\"Ingrese el valor de A: \"))\n",
        "b = float(input(\"Ingrese el valor de B: \"))\n",
        "c = float(input(\"Ingrese el valor de C: \"))\n",
        "disc=((b**2)-(4*a*c))\n",
        "raiz=(disc)**(0.5)\n",
        "\n",
        "while (disc<=0):\n",
        "  print(\"Error, el discriminante tiene que ser positivo\")\n",
        "  a = float(input(\"Ingrese el valor de A: \"))\n",
        "  b = float(input(\"Ingrese el valor de B: \"))\n",
        "  c = float(input(\"Ingrese el valor de C: \"))\n",
        "  disc=((b**2)-(4*a*c))\n",
        "  raiz=(disc)**(0.5)\n",
        "\n",
        "X1=((-b)+raiz)/(2*a)\n",
        "X2=((-b)-raiz)/(2*a)\n",
        "print(\"X1= \",X1)\n",
        "print(\"X2= \",X2)"
      ],
      "execution_count": null,
      "outputs": [
        {
          "output_type": "stream",
          "text": [
            "Teniendo en cuenta que Ax^2 + Bx + c\n",
            "Ingrese el valor de A: 20\n",
            "Ingrese el valor de B: 50\n",
            "Ingrese el valor de C: 40\n",
            "Error, el deiscriminante tiene que ser positio, digite los numeros de nuevo\n",
            "Ingrese el valor de A: 1\n",
            "Ingrese el valor de B: 6\n",
            "Ingrese el valor de C: 1\n",
            "X1=  -0.1715728752538097\n",
            "X2=  -5.82842712474619\n"
          ],
          "name": "stdout"
        }
      ]
    },
    {
      "cell_type": "code",
      "metadata": {
        "id": "y7WykT-l_jW-",
        "outputId": "10a493cd-8d3f-460b-8b83-d73d2a3be876",
        "colab": {
          "base_uri": "https://localhost:8080/"
        }
      },
      "source": [
        "def funcion(x):\n",
        "  x = (x**2)+(3*x)+3\n",
        "  return x\n",
        "\n",
        "x = int(input(\"Ingrese el valor de x: \"))\n",
        "x = funcion(x)\n",
        "print(\"El valor de la funcion es: \",x,)\n",
        "\n",
        "cont = -4\n",
        "while (cont < 10):\n",
        "  cont = cont + 1\n",
        "  x = (cont**2)+(3*cont)+3\n",
        "  print(cont,\"Valor de x:\",x)\n",
        "  if (x > 30):\n",
        "    break\n",
        "    print(\"Valor maximo de 30\")\n",
        "\n",
        "milista=[3,1,1,3,7,13,21]\n",
        "milista.append(31)\n",
        "print(milista)"
      ],
      "execution_count": 183,
      "outputs": [
        {
          "output_type": "stream",
          "text": [
            "Ingrese el valor de x: 5\n",
            "El valor de la funcion es:  43\n",
            "-3 Valor de x: 3\n",
            "-2 Valor de x: 1\n",
            "-1 Valor de x: 1\n",
            "0 Valor de x: 3\n",
            "1 Valor de x: 7\n",
            "2 Valor de x: 13\n",
            "3 Valor de x: 21\n",
            "4 Valor de x: 31\n",
            "[3, 1, 1, 3, 7, 13, 21, 31]\n"
          ],
          "name": "stdout"
        }
      ]
    }
  ]
}